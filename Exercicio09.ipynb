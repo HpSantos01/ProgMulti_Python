{
 "cells": [
  {
   "cell_type": "markdown",
   "metadata": {},
   "source": [
    "Henrique Pucci Dos Santos - 8162257381"
   ]
  },
  {
   "cell_type": "markdown",
   "metadata": {},
   "source": [
    "1 Faça um Programa que peça dois números e imprima o maior deles."
   ]
  },
  {
   "cell_type": "code",
   "execution_count": 14,
   "metadata": {},
   "outputs": [
    {
     "name": "stdout",
     "output_type": "stream",
     "text": [
      "Digite um valor: 10\n",
      "Digite outro valor: 10\n",
      "O maior número é 10\n"
     ]
    }
   ],
   "source": [
    "x = int(input('Digite um valor: '))\n",
    "y = int(input('Digite outro valor: '))\n",
    "\n",
    "if x > y:\n",
    "    print(f'O maior número é {x}')\n",
    "else:\n",
    "    print(f'O maior número é {y}')"
   ]
  },
  {
   "cell_type": "markdown",
   "metadata": {},
   "source": [
    "2 Faça um Programa que verifique se uma letra digitada é vogal ou consoante."
   ]
  },
  {
   "cell_type": "code",
   "execution_count": 15,
   "metadata": {},
   "outputs": [
    {
     "name": "stdout",
     "output_type": "stream",
     "text": [
      "Digite uma letra: 10\n",
      "Esta letra é uma consoante\n"
     ]
    }
   ],
   "source": [
    "letra = str(input('Digite uma letra: '))\n",
    "\n",
    "vogais = ['a', 'e', 'i', 'o', 'u']\n",
    "\n",
    "if letra in vogais  :\n",
    "    print('Esta letra é uma vogal')\n",
    "else:\n",
    "    print('Esta letra é uma consoante')"
   ]
  },
  {
   "cell_type": "markdown",
   "metadata": {},
   "source": [
    "3 Faça um programa para a leitura de duas notas parciais de um aluno. O programa deve calcular a média alcançada por aluno e apresentar:\n",
    "\n",
    "A mensagem \"Aprovado\", se a média alcançada for maior ou igual a sete;\n",
    "A mensagem \"Reprovado\", se a média for menor do que sete;\n",
    "A mensagem \"Aprovado com Distinção\", se a média for igual a dez."
   ]
  },
  {
   "cell_type": "code",
   "execution_count": 16,
   "metadata": {},
   "outputs": [
    {
     "name": "stdout",
     "output_type": "stream",
     "text": [
      "Digite primeira nota: 10\n",
      "Digite segunda nota: 10\n",
      "Aprovado com Distinção\n"
     ]
    }
   ],
   "source": [
    "nota1 = float(input('Digite primeira nota: '))\n",
    "nota2 = float(input('Digite segunda nota: '))\n",
    "\n",
    "m = (nota1 + nota2) /2\n",
    "\n",
    "if m == 10 :\n",
    "    print('Aprovado com Distinção')\n",
    "elif m >7<10:\n",
    "    print('Aprovado ')\n",
    "else:\n",
    "    print('Reprovado')"
   ]
  },
  {
   "cell_type": "markdown",
   "metadata": {},
   "source": [
    "4 Faça um Programa que leia três números e mostre-os em ordem decrescente."
   ]
  },
  {
   "cell_type": "code",
   "execution_count": 17,
   "metadata": {},
   "outputs": [
    {
     "name": "stdout",
     "output_type": "stream",
     "text": [
      "Digite o 1° numero: 10\n",
      "Digite o 2° numero: 10\n",
      "Digite o 3° numero: 10\n"
     ]
    }
   ],
   "source": [
    "n1 = int(input('Digite o 1° numero: '))\n",
    "n2 = int(input('Digite o 2° numero: '))\n",
    "n3 = int(input('Digite o 3° numero: '))\n",
    "\n",
    "if n1 > n2 >n3:\n",
    "    print (n1, n2, n3)\n",
    "if n1 > n3  >n2:\n",
    "    print (n1, n3, n2)\n",
    "if n2 > n1  >n3:\n",
    "    print (n2, n1, n3)\n",
    "if n2 > n3  >n1:\n",
    "    print (n2, n3, n1)\n",
    "if n3 > n1  >n2:\n",
    "    print (n3, n1, n2)\n",
    "if n3 > n2  >n1:\n",
    "    print (n3, n2, n1)"
   ]
  },
  {
   "cell_type": "markdown",
   "metadata": {},
   "source": [
    "5 As Organizações Tabajara resolveram dar um aumento de salário aos seus\n",
    "colaboradores e lhe contrataram para desenvolver o programa que calculará os\n",
    "reajustes.\n",
    "Faça um programa que recebe o salário de um colaborador e o reajuste segundo o\n",
    "seguinte critério, baseado no salário atual:\n",
    "- salários até R$ 280,00 (incluindo) : aumento de 20%\n",
    "- salários entre R$ 280,00 e R$ 700,00 : aumento de 15%\n",
    "- salários entre R$ 700,00 e R$ 1500,00 : aumento de 10%\n",
    "- salários de R$ 1500,00 em diante : aumento de 5% Após o aumento ser realizado,\n",
    "informe na tela:\n",
    "- o salário antes do reajuste;\n",
    "- o percentual de aumento aplicado;\n",
    "- o valor do aumento;\n",
    "- o novo salário, após o aumento."
   ]
  },
  {
   "cell_type": "code",
   "execution_count": 18,
   "metadata": {},
   "outputs": [
    {
     "name": "stdout",
     "output_type": "stream",
     "text": [
      "Digite seu salario em reais: 10\n",
      "Seu salário antes do reajuste é de R$10.00 \n",
      "O aumento foi de R$2.00\n",
      "O percentual de aumento foi de 20% \n",
      "Seu salário pós reajuste é de R$12.00 \n"
     ]
    }
   ],
   "source": [
    "salario = float(input('Digite seu salario em reais: '))\n",
    "\n",
    "porcentagem20=20\n",
    "porcentagem15=15\n",
    "porcentagem10=10\n",
    "porcentagem5=5\n",
    "\n",
    "reajuste1 = (salario*porcentagem20)/100 \n",
    "reajuste2 = (salario*porcentagem15)/100 \n",
    "reajuste3 = (salario*porcentagem10)/100\n",
    "reajuste4 = (salario*porcentagem5)/100 \n",
    "\n",
    "novo_salario1 = salario+reajuste1\n",
    "novo_salario2 = salario+reajuste2\n",
    "novo_salario3 = salario+reajuste3\n",
    "novo_salario4 = salario+reajuste4\n",
    "\n",
    "p_aumento1 = novo_salario1-salario\n",
    "p_aumento2 = novo_salario2-salario\n",
    "p_aumento3 = novo_salario3-salario\n",
    "p_aumento4 = novo_salario4-salario\n",
    "\n",
    "if salario <= 0:\n",
    "    print('Digite um salario valido!')\n",
    "elif salario <=280:    \n",
    "    print(f'Seu salário antes do reajuste é de R${salario}0 \\nO aumento foi de R${p_aumento1}0\\nO percentual de aumento foi de {porcentagem20}% \\nSeu salário pós reajuste é de R${novo_salario1}0 ')\n",
    "elif salario >280.00<700.00:    \n",
    "    print(f'Seu salário antes do reajuste é de R${salario}0 \\nO aumento foi de R${p_aumento2}0\\nO percentual de aumento foi de {porcentagem15}% \\nSeu salário pós reajuste é de R${novo_salario2}0 ' )\n",
    "elif salario >700<1500:    \n",
    "    print(f'Seu salário antes do reajuste é de R${salario}0 \\nO aumento foi de R${p_aumento3}0\\nO percentual de aumento foi de {porcentagem10}% \\nSeu salário pós reajuste é de R${novo_salario3}0 ' )\n",
    "else:\n",
    "    print(f'Seu salário antes do reajuste é de R${salario}0 \\nO aumento foi de R${p_aumento4}0\\nO percentual de aumento foi de {porcentagem5}% \\nSeu salário pós reajuste é de R${novo_salario4}0 ' )"
   ]
  },
  {
   "cell_type": "markdown",
   "metadata": {},
   "source": [
    "6 Faça um Programa que leia um número e exiba o dia correspondente da semana. (1-Domingo, 2- Segunda, etc.), se digitar outro valor deve aparecer valor inválido."
   ]
  },
  {
   "cell_type": "code",
   "execution_count": 19,
   "metadata": {},
   "outputs": [
    {
     "name": "stdout",
     "output_type": "stream",
     "text": [
      "Digite o dia da semana em numero: 10\n",
      "Valor Invalido\n"
     ]
    }
   ],
   "source": [
    "dia = int(input('Digite o dia da semana em numero: '))\n",
    "\n",
    "if dia == 1:\n",
    "    print('Domingo')\n",
    "elif dia == 2 :\n",
    "    print('Segunda')\n",
    "elif dia == 3 :\n",
    "    print('Terça-Feira')\n",
    "elif dia == 4:\n",
    "    print('Quarta-Feira')\n",
    "elif dia == 5:\n",
    "    print('Quinta-Feira')\n",
    "elif dia == 6:\n",
    "    print('Sexta-Feira')\n",
    "elif dia == 7 :\n",
    "    print('Sabado')\n",
    "else:\n",
    "    print('Valor Invalido')"
   ]
  },
  {
   "cell_type": "markdown",
   "metadata": {},
   "source": [
    "7 Faça um programa que lê as duas notas parciais obtidas por um aluno numa disciplina ao longo de um semestre, e calcule a sua média. A atribuição de conceitos obedece à tabela abaixo: Média de Aproveitamento Conceito Entre 9.0 e 10.0 A Entre 7.5 e 9.0 B Entre 6.0 e 7.5 C Entre 4.0 e 6.0 D Entre 4.0 e zero E"
   ]
  },
  {
   "cell_type": "code",
   "execution_count": 20,
   "metadata": {},
   "outputs": [
    {
     "name": "stdout",
     "output_type": "stream",
     "text": [
      "Digite a primeira nota: 10\n",
      "Digite a segunda nota: 10\n",
      "A media foi de 10.0 e o conceito foi A - Aluno aprovado\n"
     ]
    }
   ],
   "source": [
    "nota1 = float(input('Digite a primeira nota: '))\n",
    "nota2 = float(input('Digite a segunda nota: '))\n",
    "\n",
    "media = (nota1+nota2)/2\n",
    "\n",
    "if media < 0:\n",
    "    print('Valores digitados invalidos, tente novamente')\n",
    "elif media >=9<10:\n",
    "    print(f'A media foi de {media} e o conceito foi A - Aluno aprovado')\n",
    "elif media >7.5<9:\n",
    "    print(f'A media foi de {media} e o conceito foi B - Aluno aprovado')\n",
    "elif media >6<=7.5:\n",
    "    print(f'A media foi de {media} e o conceito foi C - Aluno aprovado')\n",
    "elif media >4<=6:\n",
    "    print(f'A media foi de {media} e o conceito foi D - Aluno reprovado')\n",
    "elif media >0<4:\n",
    "    print(f'A media foi de {media} e o conceito foi E - Aluno reprovado')"
   ]
  },
  {
   "cell_type": "markdown",
   "metadata": {},
   "source": [
    "8 Faça um Programa que peça os 3 lados de um triângulo. O programa deverá informar se os valores podem ser um triângulo. Indique, caso os lados formem um triângulo, se o mesmo é: equilátero, isósceles ou escaleno. Dicas:\n",
    "\n",
    "Três lados formam um triângulo quando a soma de quaisquer dois lados for maior que o terceiro;\n",
    "Triângulo Equilátero: três lados iguais;\n",
    "Triângulo Isósceles: quaisquer dois lados iguais;\n",
    "Triângulo Escaleno: três lados diferentes;"
   ]
  },
  {
   "cell_type": "code",
   "execution_count": 21,
   "metadata": {},
   "outputs": [
    {
     "name": "stdout",
     "output_type": "stream",
     "text": [
      "Digite o lado 1: 10\n",
      "Digite o lado 2: 10\n",
      "Digite o lado 3: 10\n",
      "O triângulo é equiláreto\n"
     ]
    }
   ],
   "source": [
    "lado1 = int(input('Digite o lado 1: '))\n",
    "lado2 = int(input('Digite o lado 2: '))\n",
    "lado3 = int(input('Digite o lado 3: '))\n",
    "\n",
    "if lado1 == 0:\n",
    "    print('Não é um triangulo')\n",
    "elif lado2 == 0:\n",
    "    print('Não é um triangulo')\n",
    "elif lado3 == 0:\n",
    "    print('Não é um triangulo')\n",
    "elif lado1 > lado2 > lado3:\n",
    "    print ('O triângulo é escaleno')\n",
    "elif lado1 == lado2 == lado3:\n",
    "    print ('O triângulo é equiláreto')\n",
    "elif lado1 > lado2 and lado3:\n",
    "    print ('O triângulo é isósceles')\n",
    "elif lado1 > lado3 and lado2:\n",
    "    print ('O triângulo é isósceles')\n",
    "elif lado2 > lado3 and lado1:\n",
    "    print ('O triângulo é isósceles')\n",
    "elif lado2 > lado1 and lado3:\n",
    "    print ('O triângulo é isósceles')\n",
    "elif lado3 > lado1 and lado2:\n",
    "    print ('O triângulo é isósceles')\n",
    "elif lado3 > lado2 and lado1:\n",
    "    print ('O triângulo é isósceles')"
   ]
  },
  {
   "cell_type": "markdown",
   "metadata": {},
   "source": [
    "9 Faça um programa que calcule as raízes de uma equação do segundo grau, na forma ax2 + bx + c. O programa deverá pedir os valores de a, b e c e fazer as consistências, informando ao usuário nas seguintes situações:\n",
    "\n",
    "Se o usuário informar o valor de A igual a zero, a equação não é do segundo grau e o programa não deve fazer pedir os demais valores, sendo encerrado;\n",
    "Se o delta calculado for negativo, a equação não possui raizes reais. Informe ao usuário e encerre o programa;\n",
    "Se o delta calculado for igual a zero a equação possui apenas uma raiz real; informe-a ao usuário;\n",
    "Se o delta for positivo, a equação possui duas raiz reais; informe-as ao usuário;"
   ]
  },
  {
   "cell_type": "code",
   "execution_count": 22,
   "metadata": {},
   "outputs": [
    {
     "name": "stdout",
     "output_type": "stream",
     "text": [
      "Digite o valor a: 10\n",
      "Digite o valor b: 10\n",
      "Digite o valor c: 10\n",
      "Seu delta é de -300 \n",
      "A equação não possui raizes reais\n"
     ]
    }
   ],
   "source": [
    "a = int(input('Digite o valor a: '))\n",
    "b = int(input('Digite o valor b: '))\n",
    "c = int(input('Digite o valor c: '))\n",
    "\n",
    "delta = (b**2)-(4*a*c)\n",
    "\n",
    "if a == 0:    \n",
    "    print('A equação não é do segundo grau')\n",
    "elif delta <0:\n",
    "    print('Seu delta é de {} \\nA equação não possui raizes reais' .format(delta))\n",
    "elif delta == 0:\n",
    "    print('Seu delta é de {} \\nA equação possui apenas uma raiz real' .format(delta))\n",
    "elif delta > 0:\n",
    "    print('Seu delta é de {} \\nA equação possui duas raizes reais' .format(delta))"
   ]
  },
  {
   "cell_type": "markdown",
   "metadata": {},
   "source": [
    "10 Faça um Programa para um caixa eletrônico. O programa deverá perguntar ao usuário a valor do saque e depois informar quantas notas de cada valor serão fornecidas. As notas disponíveis serão as de 1, 5, 10, 50 e 100 reais. O valor mínimo é de 10 reais e o máximo de 600 reais. O programa não deve se preocupar com a quantidade de notas existentes na máquina.\n",
    "\n",
    "Exemplo 1: Para sacar a quantia de 256 reais, o programa fornece duas notas de 100, uma nota de 50, uma nota de 5 e uma nota de 1;\n",
    "Exemplo 2: Para sacar a quantia de 399 reais, o programa fornece três notas de 100, uma nota de 50, quatro notas de 10, uma nota de 5 e quatro notas de 1."
   ]
  },
  {
   "cell_type": "code",
   "execution_count": 23,
   "metadata": {},
   "outputs": [
    {
     "name": "stdout",
     "output_type": "stream",
     "text": [
      "Digite o valor do saque: 1\n",
      "Nao é possivel fazer o saque\n"
     ]
    }
   ],
   "source": [
    "saque = int(input(\"Digite o valor do saque: \"))\n",
    "\n",
    "if 10 <= saque <= 600:\n",
    "    notas_cem = saque // 100\n",
    "    saque = saque % 100\n",
    "\n",
    "    notas_cinquenta = saque // 50\n",
    "    saque = saque % 50\n",
    "\n",
    "    notas_dez = saque // 10\n",
    "    saque = saque % 10\n",
    "\n",
    "    notas_cinco = saque // 5\n",
    "    saque = saque % 5\n",
    "\n",
    "    notas_um = saque // 1\n",
    "\n",
    "    if notas_cem > 0:\n",
    "        print(notas_cem, \"notas de R$ 100\")\n",
    "    if notas_cinquenta > 0:\n",
    "        print(notas_cinquenta, \"notas de R$ 50\")\n",
    "    if notas_dez > 0:\n",
    "        print(notas_dez, \"notas de R$ 10\")\n",
    "    if notas_cinco > 0:\n",
    "        print(notas_cinco, \"notas de R$ 5\")\n",
    "    if notas_um > 0:\n",
    "        print(notas_um, \"notas de R$ 1\")\n",
    "              \n",
    "else:\n",
    "    print(\"Nao é possivel fazer o saque\")"
   ]
  },
  {
   "cell_type": "markdown",
   "metadata": {},
   "source": [
    "11 Faça um programa que faça 5 perguntas para uma pessoa sobre um crime. As perguntas são:\n",
    "\n",
    "\"Telefonou para a vítima?\"\n",
    "\"Esteve no local do crime?\"\n",
    "\"Mora perto da vítima?\"\n",
    "\"Devia para a vítima?\"\n",
    "\"Já trabalhou com a vítima?\"\n",
    "O programa deve no final emitir uma classificação sobre a participação da pessoa no crime. Se a pessoa responder positivamente a 2 questões ela deve ser classificada como \"Suspeita\", entre 3 e 4 como \"Cúmplice\" e 5 como \"Assassino\". Caso contrário, ele será classificado como \"Inocente\"."
   ]
  },
  {
   "cell_type": "code",
   "execution_count": 24,
   "metadata": {},
   "outputs": [
    {
     "name": "stdout",
     "output_type": "stream",
     "text": [
      "Telefonou para a vítima? S\n",
      "Esteve no local do crime? S\n",
      "Mora perto da vítima? S\n",
      "Devia para a vítima? S\n",
      "Já trabalhou com a vítima? S\n",
      "Assassino\n"
     ]
    }
   ],
   "source": [
    "perguntas = [ \n",
    "    \"Telefonou para a vítima? \" ,\n",
    "    \"Esteve no local do crime? \" ,\n",
    "    \"Mora perto da vítima? \" ,\n",
    "    \"Devia para a vítima? \" ,\n",
    "    \"Já trabalhou com a vítima? \" \n",
    "            ]\n",
    "resposta = 0\n",
    "for qual in perguntas:\n",
    "    resposta += (input(qual) == \"S\")\n",
    "  \n",
    "if resposta == 5:\n",
    "  print(\"Assassino\")\n",
    "elif resposta >=3:\n",
    "  print(\"Cúmplice\")\n",
    "elif resposta ==2:\n",
    "  print(\"Suspeito\")\n",
    "else:\n",
    "  print(\"Inocente\")"
   ]
  },
  {
   "cell_type": "markdown",
   "metadata": {},
   "source": [
    "12 Uma fruteira está vendendo frutas com a seguinte tabela de preços:\n",
    "\n",
    "-Até 5 Kg \n",
    "-Morango R$ 2,50 por Kg \n",
    "-Maçã R$ 1,80 por Kg \n",
    "\n",
    "-Acima de 5 Kg\n",
    "-Morango R$ 2,20 por Kg\n",
    "-Maçã R$ 1,50 por Kg\n",
    "\n",
    "Se o cliente comprar mais de 8 Kg em frutas ou o valor total da compra ultrapassar\n",
    "R$ 25,00, receberá ainda um desconto de 10% sobre este total. Escreva um\n",
    "algoritmo para ler a quantidade (em Kg) de morangos e a quantidade (em Kg) de\n",
    "maças adquiridas e escreva o valor a ser pago pelo cliente."
   ]
  },
  {
   "cell_type": "code",
   "execution_count": 25,
   "metadata": {},
   "outputs": [
    {
     "name": "stdout",
     "output_type": "stream",
     "text": [
      "Digite Kg de morango: 5\n",
      "Digite Kg de maçã: 3\n",
      "O valor total a pagar é de R$17.90\n"
     ]
    }
   ],
   "source": [
    "kg_morango = float(input('Digite Kg de morango: '))\n",
    "kg_maca = float(input('Digite Kg de maçã: '))\n",
    "\n",
    "morango_varejo = 2.50\n",
    "morango_atacado = 2.20\n",
    "maca_varejo = 1.80\n",
    "maca_atacado = 1.50\n",
    "\n",
    "if kg_morango <=5:\n",
    "    total_morango = (kg_morango*morango_varejo)\n",
    "else:\n",
    "    total_morango = (kg_morango*morango_atacado)\n",
    "    \n",
    "if kg_maca <=5:\n",
    "    total_maca = (kg_maca*maca_varejo)\n",
    "else:\n",
    "    total_maca = (kg_maca*maca_atacado)\n",
    "    \n",
    "valor_total = total_morango+total_maca\n",
    "\n",
    "if (kg_morango+kg_maca)>8 or valor_total> 25.00:\n",
    "    valor_total = valor_total - valor_total*0.10\n",
    "    \n",
    "print(f'O valor total a pagar é de R${valor_total}0')"
   ]
  },
  {
   "cell_type": "markdown",
   "metadata": {},
   "source": [
    "13Faça um programa que peça uma nota, entre zero e dez. Mostre uma mensagem caso o valor seja inválido e continue pedindo até que o usuário informe um valor válido."
   ]
  },
  {
   "cell_type": "code",
   "execution_count": 26,
   "metadata": {},
   "outputs": [
    {
     "name": "stdout",
     "output_type": "stream",
     "text": [
      "Digite uma nota de 0 à 10: 13\n",
      "Digite uma nota de 0 à 10: 12\n",
      "Digite uma nota de 0 à 10: 11\n",
      "Digite uma nota de 0 à 10: 10\n",
      "A nota está no padrão!\n"
     ]
    }
   ],
   "source": [
    "nota = int(input('Digite uma nota de 0 à 10: '))\n",
    "while 0 > nota or 10 < nota:\n",
    "    nota = int(input('Digite uma nota de 0 à 10: '))\n",
    "else:\n",
    "    print('A nota está no padrão!')"
   ]
  },
  {
   "cell_type": "markdown",
   "metadata": {},
   "source": [
    "13.Faça um programa que leia e valide as seguintes informações: Nome: maior que 3 caracteres; Idade: entre 0 e 150; Salário: maior que zero; Sexo: 'f' ou 'm'; Estado Civil: 's', 'c', 'v', 'd'"
   ]
  },
  {
   "cell_type": "code",
   "execution_count": 27,
   "metadata": {},
   "outputs": [
    {
     "name": "stdout",
     "output_type": "stream",
     "text": [
      "Digite seu nome: Pucci\n",
      "Digite sua idade: 21\n",
      "Digite seu salario: 1000\n",
      "Digite seu sexo m (masculino) ou f (feminino): m\n",
      "Digite seu estado civil s (solteiro), c (casado), v (viuvo) ou d (divorciado): c\n"
     ]
    }
   ],
   "source": [
    "nome = \"a\"\n",
    "while len(nome) <= 3:\n",
    "    nome = input(\"Digite seu nome: \")\n",
    "\n",
    "idade = -1\n",
    "while idade < 0 or idade > 150:\n",
    "    idade = int(input(\"Digite sua idade: \"))\n",
    "\n",
    "salario = 0\n",
    "while salario <= 0:\n",
    "    salario = float(input(\"Digite seu salario: \"))\n",
    "\n",
    "sexo = \"p\"\n",
    "while sexo != \"f\" and sexo != \"m\":\n",
    "    sexo = input(\"Digite seu sexo m (masculino) ou f (feminino): \")\n",
    "\n",
    "estadoCivil = \"n\"\n",
    "while estadoCivil != \"s\" and estadoCivil != \"c\" and estadoCivil != \"v\" and estadoCivil != \"d\":\n",
    "    estadoCivil = input(\"Digite seu estado civil s (solteiro), c (casado), v (viuvo) ou d (divorciado): \")"
   ]
  },
  {
   "cell_type": "markdown",
   "metadata": {},
   "source": [
    "14 Faça um programa que leia 5 números e informe o maior número."
   ]
  },
  {
   "cell_type": "code",
   "execution_count": 28,
   "metadata": {},
   "outputs": [
    {
     "name": "stdout",
     "output_type": "stream",
     "text": [
      "Digite o Primeiro número: 50\n",
      "Digite o Segundo número: 40\n",
      "Digite o Terceiro número: 30\n",
      "Digite o Quarto número: 5\n",
      "Digite o Quinto número: 1\n",
      "O maior número é 50\n"
     ]
    }
   ],
   "source": [
    "lista = []\n",
    "\n",
    "while True:\n",
    "    lista.append(int(input('Digite o Primeiro número: ')))\n",
    "    lista.append(int(input('Digite o Segundo número: ')))\n",
    "    lista.append(int(input('Digite o Terceiro número: ')))\n",
    "    lista.append(int(input('Digite o Quarto número: ')))\n",
    "    lista.append(int(input('Digite o Quinto número: ')))\n",
    "    break\n",
    "\n",
    "print(\"O maior número é\", max(lista))"
   ]
  },
  {
   "cell_type": "markdown",
   "metadata": {},
   "source": [
    "15 Faça um programa que leia 5 números e informe a soma e a média dos números."
   ]
  },
  {
   "cell_type": "code",
   "execution_count": 29,
   "metadata": {},
   "outputs": [
    {
     "name": "stdout",
     "output_type": "stream",
     "text": [
      "Digite o Primeiro número: 100\n",
      "Digite o Segundo número: 110\n",
      "Digite o Terceiro número: 90\n",
      "Digite o Quarto número: 80\n",
      "Digite o Quinto número: 50\n",
      "A soma dos números é 430\n",
      "A média é 86.0\n"
     ]
    }
   ],
   "source": [
    "\n",
    "\n",
    "lista = []\n",
    "\n",
    "while True:\n",
    "    lista.append(int(input('Digite o Primeiro número: ')))\n",
    "    lista.append(int(input('Digite o Segundo número: ')))\n",
    "    lista.append(int(input('Digite o Terceiro número: ')))\n",
    "    lista.append(int(input('Digite o Quarto número: ')))\n",
    "    lista.append(int(input('Digite o Quinto número: ')))\n",
    "    break\n",
    "    \n",
    "soma = sum(lista)\n",
    "media = soma/5\n",
    "\n",
    "print(\"A soma dos números é\", soma)\n",
    "print(\"A média é\", media)"
   ]
  },
  {
   "cell_type": "markdown",
   "metadata": {},
   "source": [
    "16 Faça um programa que imprima na tela apenas os números ímpares entre 1 e 50."
   ]
  },
  {
   "cell_type": "code",
   "execution_count": 30,
   "metadata": {},
   "outputs": [
    {
     "name": "stdout",
     "output_type": "stream",
     "text": [
      "1\n",
      "3\n",
      "5\n",
      "7\n",
      "9\n",
      "11\n",
      "13\n",
      "15\n",
      "17\n",
      "19\n",
      "21\n",
      "23\n",
      "25\n",
      "27\n",
      "29\n",
      "31\n",
      "33\n",
      "35\n",
      "37\n",
      "39\n",
      "41\n",
      "43\n",
      "45\n",
      "47\n",
      "49\n"
     ]
    }
   ],
   "source": [
    "for i  in  range(1,50):\n",
    "         if  i  %  2  !=  0:\n",
    "            print (i)\n",
    "            i +=1"
   ]
  },
  {
   "cell_type": "markdown",
   "metadata": {},
   "source": [
    "17 Desenvolva um gerador de tabuada, capaz de gerar a tabuada de qualquer número inteiro entre 1 a 10. O usuário deve informar de qual numero ele deseja ver a tabuada. A saída deve ser conforme o exemplo abaixo: Tabuada de 5: 5 X 1 = 5 5 X 2 = 10 ... 5 X 10 = 50"
   ]
  },
  {
   "cell_type": "code",
   "execution_count": 31,
   "metadata": {},
   "outputs": [
    {
     "name": "stdout",
     "output_type": "stream",
     "text": [
      "Digite o número da tabuada: 7\n",
      "7 X 1 = 7\n",
      "7 X 2 = 14\n",
      "7 X 3 = 21\n",
      "7 X 4 = 28\n",
      "7 X 5 = 35\n",
      "7 X 6 = 42\n",
      "7 X 7 = 49\n",
      "7 X 8 = 56\n",
      "7 X 9 = 63\n",
      "7 X 10 = 70\n"
     ]
    }
   ],
   "source": [
    "tab = int(input('Digite o número da tabuada: '))  \n",
    "inicio = 1\n",
    "while(inicio <= 10):\n",
    "    print(\"{0} X {1} = {2}\".format(tab, inicio, (inicio * tab)))\n",
    "    inicio += 1"
   ]
  },
  {
   "cell_type": "markdown",
   "metadata": {},
   "source": [
    "18 A série de Fibonacci é formada pela seqüência 1,1,2,3,5,8,13,21,34,55,... Faça um programa capaz de gerar a série até o n−ésimo termo."
   ]
  },
  {
   "cell_type": "code",
   "execution_count": 32,
   "metadata": {},
   "outputs": [
    {
     "name": "stdout",
     "output_type": "stream",
     "text": [
      "Digite até qual termo deseja: 4\n",
      "1\n",
      "1\n",
      "2\n",
      "3\n"
     ]
    }
   ],
   "source": [
    "termo = 0\n",
    "while (termo <= 0):\n",
    "    termo = int(input(\"Digite até qual termo deseja: \"))\n",
    "    if (termo <= 0):\n",
    "        print(\"O termo deve ser positivo!\")\n",
    "\n",
    "primeiro = 1\n",
    "print (primeiro)\n",
    "segundo = 1\n",
    "for i in range(1, termo):\n",
    "    print(segundo)\n",
    "    terceiro = primeiro + segundo\n",
    "    primeiro = segundo\n",
    "    segundo = terceiro"
   ]
  },
  {
   "cell_type": "markdown",
   "metadata": {},
   "source": [
    "19 Faça um programa que calcule o fatorial de um número inteiro fornecido pelo usuário. Ex.: 5!=5.4.3.2.1=120"
   ]
  },
  {
   "cell_type": "code",
   "execution_count": 33,
   "metadata": {},
   "outputs": [
    {
     "name": "stdout",
     "output_type": "stream",
     "text": [
      "Você quer o fatorial de qual número: 5\n",
      "5!=  [5, 4, 3, 2] * 1 = 120\n"
     ]
    }
   ],
   "source": [
    "num = 0\n",
    "while (num <= 0):\n",
    "    num = int(input(\"Você quer o fatorial de qual número: \"))\n",
    "    if (num <= 0):\n",
    "        print (\"O número deve ser positivo!\")\n",
    "\n",
    "fatorial = 1\n",
    "for i in reversed(range(2, num + 1)):\n",
    "    fatorial *= i\n",
    "\n",
    "rep = []\n",
    "for x in reversed(range(2, num + 1)):\n",
    "    rep.append(x)\n",
    "\n",
    "print (f\"{num}!= \", rep[::], f\"* 1 = {fatorial}\")"
   ]
  },
  {
   "cell_type": "markdown",
   "metadata": {},
   "source": [
    "20 O Sr. Manoel Joaquim possui uma grande loja de artigos de R$ 1,99, com cerca\n",
    "de 10 caixas. Para agilizar o cálculo de quanto cada cliente deve pagar ele\n",
    "desenvolveu um tabela que contém o número de itens que o cliente comprou e ao\n",
    "lado o valor da conta. Desta forma a atendente do caixa precisa apenas contar\n",
    "quantos itens o cliente está levando e olhar na tabela de preços. Você foi contratado\n",
    "para desenvolver o programa que monta esta tabela de preços, que conterá os\n",
    "preços de 1 até 50 produtos, conforme o exemplo abaixo:\n",
    "Lojas Quase Dois - Tabela de preços\n",
    "1 - R$ 1.99\n",
    "2 - R$ 3.98\n",
    "...\n",
    "50 - R$ 99.50"
   ]
  },
  {
   "cell_type": "code",
   "execution_count": 34,
   "metadata": {},
   "outputs": [
    {
     "name": "stdout",
     "output_type": "stream",
     "text": [
      "Lojas Quase Dois - Tabelas de preços\n",
      "01 - R$ 1.99\n",
      "02 - R$ 3.98\n",
      "03 - R$ 5.97\n",
      "04 - R$ 7.96\n",
      "05 - R$ 9.95\n",
      "06 - R$ 11.94\n",
      "07 - R$ 13.93\n",
      "08 - R$ 15.92\n",
      "09 - R$ 17.91\n",
      "10 - R$ 19.90\n",
      "11 - R$ 21.89\n",
      "12 - R$ 23.88\n",
      "13 - R$ 25.87\n",
      "14 - R$ 27.86\n",
      "15 - R$ 29.85\n",
      "16 - R$ 31.84\n",
      "17 - R$ 33.83\n",
      "18 - R$ 35.82\n",
      "19 - R$ 37.81\n",
      "20 - R$ 39.80\n",
      "21 - R$ 41.79\n",
      "22 - R$ 43.78\n",
      "23 - R$ 45.77\n",
      "24 - R$ 47.76\n",
      "25 - R$ 49.75\n",
      "26 - R$ 51.74\n",
      "27 - R$ 53.73\n",
      "28 - R$ 55.72\n",
      "29 - R$ 57.71\n",
      "30 - R$ 59.70\n",
      "31 - R$ 61.69\n",
      "32 - R$ 63.68\n",
      "33 - R$ 65.67\n",
      "34 - R$ 67.66\n",
      "35 - R$ 69.65\n",
      "36 - R$ 71.64\n",
      "37 - R$ 73.63\n",
      "38 - R$ 75.62\n",
      "39 - R$ 77.61\n",
      "40 - R$ 79.60\n",
      "41 - R$ 81.59\n",
      "42 - R$ 83.58\n",
      "43 - R$ 85.57\n",
      "44 - R$ 87.56\n",
      "45 - R$ 89.55\n",
      "46 - R$ 91.54\n",
      "47 - R$ 93.53\n",
      "48 - R$ 95.52\n",
      "49 - R$ 97.51\n",
      "50 - R$ 99.50\n"
     ]
    }
   ],
   "source": [
    "x = 1\n",
    "valor = 1.99\n",
    "\n",
    "print(\"Lojas Quase Dois - Tabelas de preços\")\n",
    "\n",
    "for x in range(1,51):\n",
    "    print(\"%02.d - R$ %.2f\" % (x,x*valor))\n",
    "    x += 1"
   ]
  },
  {
   "cell_type": "markdown",
   "metadata": {},
   "source": [
    "21 O Sr. Manoel Joaquim acaba de adquirir uma panificadora e pretende implantar\n",
    "a metodologia da tabelinha, que já é um sucesso na sua loja de 1,99. Você foi\n",
    "contratado para desenvolver o programa que monta a tabela de preços de pães, de\n",
    "1 até 50 pães, a partir do preço do pão informado pelo usuário, conforme o exemplo\n",
    "abaixo:\n",
    "Preço do pão: R$ 0.18\n",
    "Panificadora Pão de Ontem - Tabela de preços\n",
    "1 - R$ 0.18\n",
    "2 - R$ 0.36\n",
    "...\n",
    "50 - R$ 9.00"
   ]
  },
  {
   "cell_type": "code",
   "execution_count": 35,
   "metadata": {},
   "outputs": [
    {
     "name": "stdout",
     "output_type": "stream",
     "text": [
      "Panificadora Pão de Ontem - Tabela de preços\n",
      "01 - R$ 0.18\n",
      "02 - R$ 0.36\n",
      "03 - R$ 0.54\n",
      "04 - R$ 0.72\n",
      "05 - R$ 0.90\n",
      "06 - R$ 1.08\n",
      "07 - R$ 1.26\n",
      "08 - R$ 1.44\n",
      "09 - R$ 1.62\n",
      "10 - R$ 1.80\n",
      "11 - R$ 1.98\n",
      "12 - R$ 2.16\n",
      "13 - R$ 2.34\n",
      "14 - R$ 2.52\n",
      "15 - R$ 2.70\n",
      "16 - R$ 2.88\n",
      "17 - R$ 3.06\n",
      "18 - R$ 3.24\n",
      "19 - R$ 3.42\n",
      "20 - R$ 3.60\n",
      "21 - R$ 3.78\n",
      "22 - R$ 3.96\n",
      "23 - R$ 4.14\n",
      "24 - R$ 4.32\n",
      "25 - R$ 4.50\n",
      "26 - R$ 4.68\n",
      "27 - R$ 4.86\n",
      "28 - R$ 5.04\n",
      "29 - R$ 5.22\n",
      "30 - R$ 5.40\n",
      "31 - R$ 5.58\n",
      "32 - R$ 5.76\n",
      "33 - R$ 5.94\n",
      "34 - R$ 6.12\n",
      "35 - R$ 6.30\n",
      "36 - R$ 6.48\n",
      "37 - R$ 6.66\n",
      "38 - R$ 6.84\n",
      "39 - R$ 7.02\n",
      "40 - R$ 7.20\n",
      "41 - R$ 7.38\n",
      "42 - R$ 7.56\n",
      "43 - R$ 7.74\n",
      "44 - R$ 7.92\n",
      "45 - R$ 8.10\n",
      "46 - R$ 8.28\n",
      "47 - R$ 8.46\n",
      "48 - R$ 8.64\n",
      "49 - R$ 8.82\n",
      "50 - R$ 9.00\n"
     ]
    }
   ],
   "source": [
    "x = 1\n",
    "valor = 0.18\n",
    "\n",
    "print(\"Panificadora Pão de Ontem - Tabela de preços\")\n",
    "\n",
    "for x in range(1,51):\n",
    "    print(\"%02.d - R$ %.2f\" % (x,x*valor))\n",
    "    x += 1"
   ]
  },
  {
   "cell_type": "markdown",
   "metadata": {},
   "source": [
    "22 O Sr. Manoel Joaquim expandiu seus negócios para além dos negócios de 1,99 e\n",
    "agora possui uma loja de conveniências. Faça um programa que implemente uma\n",
    "caixa registradora rudimentar. O programa deverá receber um número\n",
    "desconhecido de valores referentes aos preços das mercadorias. Um valor zero deve\n",
    "ser informado pelo operador para indicar o final da compra. O programa deve então\n",
    "mostrar o total da compra e perguntar o valor em dinheiro que o cliente forneceu,\n",
    "para então calcular e mostrar o valor do troco. Após esta operação, o programa\n",
    "deverá voltar ao ponto inicial, para registrar a próxima compra. A saída deve ser\n",
    "conforme o exemplo abaixo:\n",
    "Lojas Tabajara\n",
    "Produto 1: R$ 2.20\n",
    "Produto 2: R$ 5.80\n",
    "Produto 3: R$ 0\n",
    "Total: R$ 9.00\n",
    "Dinheiro: R$ 20.00\n",
    "Troco: R$ 11.00"
   ]
  },
  {
   "cell_type": "code",
   "execution_count": 36,
   "metadata": {},
   "outputs": [
    {
     "name": "stdout",
     "output_type": "stream",
     "text": [
      "Lojas Tabajara\n",
      "Produto 1: R$ 10\n",
      "Produto 2: R$ 10\n",
      "Produto 3: R$ 15\n",
      "Produto 4: R$ 0\n",
      "Total: R$ 35.00\n",
      "Dinheiro: R$ 50\n",
      "Troco: R$ 15.00 \n",
      "...\n"
     ]
    }
   ],
   "source": [
    "soma = 0.00\n",
    "quantidade = 1\n",
    "precoMercadoria = 1\n",
    "\n",
    "print(\"Lojas Tabajara\")\n",
    "\n",
    "while (precoMercadoria != 0):\n",
    "    precoMercadoria = float(input('Produto %d: R$ ' % (quantidade)))\n",
    "    quantidade = quantidade + 1\n",
    "    soma += precoMercadoria\n",
    "\n",
    "print (\"Total: R$ %.2f\" % soma)\n",
    "pagamento = float(input(\"Dinheiro: R$ \"))\n",
    "\n",
    "print (\"Troco: R$ %.2f \\n...\" % (pagamento - soma))"
   ]
  },
  {
   "cell_type": "markdown",
   "metadata": {},
   "source": [
    "23 Foi feita uma estatística em cinco cidades brasileiras para coletar dados sobre acidentes de trânsito. Foram obtidos os seguintes dados:\n",
    "\n",
    "Código da cidade;\n",
    "Número de veículos de passeio (em 1999);\n",
    "Número de acidentes de trânsito com vítimas (em 1999). Deseja-se saber:\n",
    "Qual o maior e menor índice de acidentes de transito e a que cidade pertence;\n",
    "Qual a média de veículos nas cinco cidades juntas;\n",
    "Qual a média de acidentes de trânsito nas cidades com menos de 2.000 veículos de passeio."
   ]
  },
  {
   "cell_type": "code",
   "execution_count": 37,
   "metadata": {},
   "outputs": [
    {
     "name": "stdout",
     "output_type": "stream",
     "text": [
      "Informe o código da cidade 1: 1\n",
      "Informe o número de veiculos de passeio (em 1999) da cidade 1: 100\n",
      "Informe a quantidade de acidentes (em 1999) da cidade 1: 1\n",
      "Informe o código da cidade 2: 100\n",
      "Informe o número de veiculos de passeio (em 1999) da cidade 2: 1\n",
      "Informe a quantidade de acidentes (em 1999) da cidade 2: 100\n",
      "Informe o código da cidade 3: 1\n",
      "Informe o número de veiculos de passeio (em 1999) da cidade 3: 100\n",
      "Informe a quantidade de acidentes (em 1999) da cidade 3: 100\n",
      "Informe o código da cidade 4: 1\n",
      "Informe o número de veiculos de passeio (em 1999) da cidade 4: 100\n",
      "Informe a quantidade de acidentes (em 1999) da cidade 4: 1\n",
      "Informe o código da cidade 5: 100\n",
      "Informe o número de veiculos de passeio (em 1999) da cidade 5: 1\n",
      "Informe a quantidade de acidentes (em 1999) da cidade 5: 100\n",
      "A cidade com maior indice de acidentes é a cidade 100 com 100.00 %\n",
      "A cidade com menor indice de acidentes é a cidade 1 com 0.01 %\n",
      "A media de veiculos nas cidades é 60.40 %\n",
      "A media de acidentes de transito nas cidades com menos de 2.000 veículos é 60.40 %\n"
     ]
    }
   ],
   "source": [
    "somaVeiculos = 0\n",
    "somaAcidentes = 0\n",
    "somaAcidentesMenos2Mil = 0\n",
    "totalCidadesMenos2Mil = 0\n",
    "cidade = 1\n",
    "\n",
    "for i in range(0, 5):\n",
    "    codigo = input(\"Informe o código da cidade %d: \" % cidade)\n",
    "    veiculos = int(input(\"Informe o número de veiculos de passeio (em 1999) da cidade %d: \" % cidade))\n",
    "    acidentes = int(input(\"Informe a quantidade de acidentes (em 1999) da cidade %d: \" % cidade))\n",
    "    cidade += 1\n",
    "    \n",
    "    indiceAcidentes = acidentes / (veiculos)\n",
    "    somaVeiculos += veiculos\n",
    "    \n",
    "    if ('maisAcidentes' not in vars()) or (indiceAcidentes > maisAcidentes):\n",
    "        maisAcidentes = indiceAcidentes\n",
    "        codigoMaisAcidentes = codigo\n",
    "    if ('menosAcidentes' not in vars()) or (indiceAcidentes < menosAcidentes):\n",
    "        menosAcidentes = indiceAcidentes\n",
    "        codigoMenosAcidentes = codigo\n",
    "\n",
    "    if (veiculos < 2000):\n",
    "        somaAcidentesMenos2Mil += acidentes\n",
    "        totalCidadesMenos2Mil += 1\n",
    "\n",
    "print (f\"A cidade com maior indice de acidentes é a cidade {codigoMaisAcidentes} com %.2f\" % (maisAcidentes),\"%\")\n",
    "print (f\"A cidade com menor indice de acidentes é a cidade {codigoMenosAcidentes} com %.2f\" % (menosAcidentes),\"%\")\n",
    "print (\"A media de veiculos nas cidades é %.2f\" % (somaVeiculos / 5.0),\"%\")\n",
    "print (\"A media de acidentes de transito nas cidades com menos de 2.000 veículos é %.2f\" % (somaAcidentesMenos2Mil / (totalCidadesMenos2Mil)),\"%\")"
   ]
  },
  {
   "cell_type": "markdown",
   "metadata": {},
   "source": [
    "24 Faça um programa que receba o valor de uma dívida e mostre uma tabela com\n",
    "os seguintes dados: valor da dívida, valor dos juros, quantidade de parcelas e valor\n",
    "da parcela.\n",
    "Os juros e a quantidade de parcelas seguem a tabela abaixo:\n",
    "Quantidade de Parcelas % de Juros sobre o valor inicial da dívida"
   ]
  },
  {
   "cell_type": "code",
   "execution_count": 38,
   "metadata": {},
   "outputs": [
    {
     "name": "stdout",
     "output_type": "stream",
     "text": [
      "Informe o valor da divida: 2500\n",
      "Valor da divida\tValor dos Juros\tQuantidade de Parcelas\tValor da Parcela\n",
      "R$ 2500.00 \tR$ 0.00 \t1 \t\t\tR$ 2500.00\n",
      "R$ 2750.00 \tR$ 250.00 \t3 \t\t\tR$ 916.67\n",
      "R$ 2875.00 \tR$ 375.00 \t6 \t\t\tR$ 479.17\n",
      "R$ 3000.00 \tR$ 500.00 \t9 \t\t\tR$ 333.33\n",
      "R$ 3125.00 \tR$ 625.00 \t12 \t\t\tR$ 260.42\n"
     ]
    }
   ],
   "source": [
    "divida = float(input('Informe o valor da divida: '))\n",
    "\n",
    "print(\"Valor da divida\\tValor dos Juros\\tQuantidade de Parcelas\\tValor da Parcela\")\n",
    "    \n",
    "juros = 0\n",
    "for i in [1, 3, 6, 9, 12]:\n",
    "    valorJuros = (divida * (juros / 100.0))\n",
    "    valorDivida = divida + valorJuros\n",
    "    valorParcela = valorDivida / float(i)\n",
    "    print (\"R$ %.2f \\tR$ %.2f \\t%i \\t\\t\\tR$ %.2f\" % (valorDivida, valorJuros, i, valorParcela))\n",
    "    if (i == 1):\n",
    "        juros = 10\n",
    "    else:\n",
    "        juros += 5"
   ]
  },
  {
   "cell_type": "markdown",
   "metadata": {},
   "source": [
    "25 Faça um programa que mostre os n termos da Série a seguir: S = 1/1 + 2/3 + 3/5 + 4/7 + 5/9 + ... + n/m. Imprima no final a soma da série."
   ]
  },
  {
   "cell_type": "code",
   "execution_count": 39,
   "metadata": {},
   "outputs": [
    {
     "name": "stdout",
     "output_type": "stream",
     "text": [
      "Informe a quantidade de termos que deseja: 3\n",
      "S = 1/3\n",
      "S = 2/5\n",
      "S = 3/7\n",
      "Soma da série é 2.27\n"
     ]
    }
   ],
   "source": [
    "termos = int(input(\"Informe a quantidade de termos que deseja: \"))\n",
    "\n",
    "s = 0.0\n",
    "denominador = 1\n",
    "for i in range(1, termos + 1):\n",
    "    s += i / denominador\n",
    "    denominador += 2\n",
    "    print (f\"S = {i}/{denominador}\")\n",
    "print (\"Soma da série é %.2f\" % s)"
   ]
  }
 ],
 "metadata": {
  "kernelspec": {
   "display_name": "Python 3",
   "language": "python",
   "name": "python3"
  },
  "language_info": {
   "codemirror_mode": {
    "name": "ipython",
    "version": 3
   },
   "file_extension": ".py",
   "mimetype": "text/x-python",
   "name": "python",
   "nbconvert_exporter": "python",
   "pygments_lexer": "ipython3",
   "version": "3.6.4"
  }
 },
 "nbformat": 4,
 "nbformat_minor": 2
}
