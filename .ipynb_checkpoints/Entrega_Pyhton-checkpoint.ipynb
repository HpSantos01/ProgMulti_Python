{
 "cells": [
  {
   "cell_type": "markdown",
   "metadata": {},
   "source": [
    "Henrique Pucci Dos Santos\n",
    "RA: 8162257381"
   ]
  },
  {
   "cell_type": "markdown",
   "metadata": {},
   "source": [
    "1 Faça um Programa que peça o raio de um círculo, calcule e mostre sua área."
   ]
  },
  {
   "cell_type": "code",
   "execution_count": 28,
   "metadata": {},
   "outputs": [
    {
     "name": "stdout",
     "output_type": "stream",
     "text": [
      "Digite a área do Circulo em metros:2\n",
      "O resultado é 12.56\n"
     ]
    }
   ],
   "source": [
    "pi= 3.14\n",
    "r = float (input ('Digite a área do Circulo em metros:'))\n",
    "a = pi * (r*r)\n",
    "print ('O resultado é' ,a )\n"
   ]
  },
  {
   "cell_type": "markdown",
   "metadata": {},
   "source": [
    "2 Faça um Programa que calcule a área de um quadrado, em seguida mostre o dobro\n",
    "desta área para o usuário."
   ]
  },
  {
   "cell_type": "code",
   "execution_count": 39,
   "metadata": {},
   "outputs": [
    {
     "name": "stdout",
     "output_type": "stream",
     "text": [
      "Digite lado do quadrado:1\n",
      "Digite base do quadrado:1\n",
      "A area do quadrado é 1.0\n",
      "e o dobro dela é: 2.0\n"
     ]
    }
   ],
   "source": [
    "lado = float(input('Digite lado do quadrado:'))\n",
    "base = float(input('Digite base do quadrado:'))\n",
    "area = lado * base\n",
    "dobro = area*2\n",
    "print ('A area do quadrado é' ,area ) \n",
    "print('e o dobro dela é:' , dobro)\n",
    "\n"
   ]
  },
  {
   "cell_type": "markdown",
   "metadata": {},
   "source": [
    "3 Faça um Programa que pergunte quanto você ganha por hora e o número de horas\n",
    "trabalhadas no mês. Calcule e mostre o total do seu salário no referido mês."
   ]
  },
  {
   "cell_type": "code",
   "execution_count": 41,
   "metadata": {},
   "outputs": [
    {
     "name": "stdout",
     "output_type": "stream",
     "text": [
      "Quanto voce ganha por hora?10\n",
      "Quantas horas você trabalhou no mes?220\n",
      "Seu salario total é R$: 2200.0\n"
     ]
    }
   ],
   "source": [
    "salario_hora = float(input('Quanto voce ganha por hora?'))\n",
    "qtd_hora = float(input('Quantas horas você trabalhou no mes?'))\n",
    "total_salario = salario_hora * qtd_hora\n",
    "print ('Seu salario total é R$:' ,total_salario)"
   ]
  },
  {
   "cell_type": "markdown",
   "metadata": {},
   "source": [
    "4 Faça um Programa que peça a temperatura em graus Farenheit, transforme e\n",
    "mostre a temperatura em graus Celsius. C = (5 * (F-32) / 9)."
   ]
  },
  {
   "cell_type": "code",
   "execution_count": 54,
   "metadata": {},
   "outputs": [
    {
     "name": "stdout",
     "output_type": "stream",
     "text": [
      "Digite a temperatura em Farenheit:74\n",
      "A temperatura em °C é 23.3\n"
     ]
    }
   ],
   "source": [
    "fht = float(input('Digite a temperatura em Farenheit:'))\n",
    "c = (5 * ( fht - 32 ) / 9)\n",
    "\n",
    "print ('A temperatura em °C é %.1f' %c)"
   ]
  },
  {
   "cell_type": "markdown",
   "metadata": {},
   "source": [
    "5 Faça um Programa que peça a temperatura em graus Celsius, transforme e mostre\n",
    "em graus Farenheit."
   ]
  },
  {
   "cell_type": "code",
   "execution_count": 55,
   "metadata": {},
   "outputs": [
    {
     "name": "stdout",
     "output_type": "stream",
     "text": [
      "Digite a temperatura em graus Celsius:40\n",
      "A temperatura em Farenheit é 104.0\n"
     ]
    }
   ],
   "source": [
    "celsius = float(input('Digite a temperatura em graus Celsius:'))\n",
    "f = (celsius *1.8 + 32)\n",
    "\n",
    "print ('A temperatura em Farenheit é' ,f)\n"
   ]
  },
  {
   "cell_type": "markdown",
   "metadata": {},
   "source": [
    "6 Faça um Programa que peça 2 números inteiros e um número real. Calcule e\n",
    "mostre:\n",
    "- o produto do dobro do primeiro com metade do segundo .\n",
    "- a soma do triplo do primeiro com o terceiro.\n",
    "- o terceiro elevado ao cubo."
   ]
  },
  {
   "cell_type": "code",
   "execution_count": 57,
   "metadata": {},
   "outputs": [
    {
     "name": "stdout",
     "output_type": "stream",
     "text": [
      "Digite o primeiro numero inteiro: 2\n",
      "Digite o segundo numero inteiro: 2\n",
      "Digite o terceiro sendo um numero real: 2\n",
      "o total do produto do dobro do primeiro com metade do segundo é 5.0\n",
      "o total da soma do triplo do primeiro com o terceiro é 8.0\n",
      "o total do terceiro elevado ao cubo é 6.0\n"
     ]
    }
   ],
   "source": [
    "n1 = int(input('Digite o primeiro numero inteiro: '))\n",
    "n2 = int(input('Digite o segundo numero inteiro: '))\n",
    "n3 = float(input('Digite o terceiro sendo um numero real: '))\n",
    "\n",
    "a1 = (n1*2+n2/2)\n",
    "a2 = (n1*3+n3)\n",
    "a3 = (n3*3)\n",
    "\n",
    "print ('o total do produto do dobro do primeiro com metade do segundo é' ,a1)\n",
    "print ('o total da soma do triplo do primeiro com o terceiro é' ,a2)\n",
    "print ('o total do terceiro elevado ao cubo é' ,a3)"
   ]
  },
  {
   "cell_type": "markdown",
   "metadata": {},
   "source": [
    "7 João Papo-de-Pescador, homem de bem, comprou um microcomputador para\n",
    "controlar o rendimento diário de seu trabalho. Toda vez que ele traz um peso de\n",
    "peixes maior que o estabelecido pelo regulamento de pesca do estado de São Paulo\n",
    "(50 quilos) deve pagar uma multa de R$ 4,00 por quilo excedente. João precisa que\n",
    "você faça um programa que leia a variável peso (peso de peixes) e verifique se há\n",
    "excesso. Se houver, gravar na variável excesso e na variável multa o valor da multa\n",
    "que João deverá pagar. Caso contrário mostrar tais variáveis com o conteúdo ZERO."
   ]
  },
  {
   "cell_type": "code",
   "execution_count": 2,
   "metadata": {},
   "outputs": [
    {
     "name": "stdout",
     "output_type": "stream",
     "text": [
      "Digite o peso dos peixes pescados: 55\n",
      "Opa você excedeu 5.0 Kg então o valor da multa é R$ 20.0\n"
     ]
    }
   ],
   "source": [
    "pesop = float(input('Digite o peso dos peixes pescados: '))\n",
    "\n",
    "if pesop > 50:\n",
    "    excesso = pesop - 50\n",
    "    multa = excesso * 4\n",
    "    print(\"Opa você excedeu {} Kg então o valor da multa é R$ {}\" .format(excesso, multa))\n",
    "else: \n",
    "    print('Parabéns, sem multa de excesso por hoje!')"
   ]
  },
  {
   "cell_type": "markdown",
   "metadata": {},
   "source": [
    "8 Faça um Programa que pergunte quanto você ganha por hora e o número de horas\n",
    "trabalhadas no mês. Calcule e mostre o total do seu salário no referido mês,\n",
    "sabendo-se que são descontados 11% para o Imposto de Renda, 8% para o INSS e 5%\n",
    "para o sindicato, faça um programa que nos dê:\n",
    "- salário bruto.\n",
    "- quanto pagou ao INSS.\n",
    "- quanto pagou ao sindicato.\n",
    "- o salário líquido.\n",
    "- calcule os descontos e o salário líquido, conforme a tabela abaixo:\n",
    "+ Salário Bruto : R$\n",
    "- IR (11%) : R$\n",
    "- INSS (8%) : R$\n",
    "- Sindicato ( 5%) : R$\n",
    "= Salário Liquido : R$\n",
    "Obs.: Salário Bruto - Descontos = Salário Líquido."
   ]
  },
  {
   "cell_type": "code",
   "execution_count": 4,
   "metadata": {},
   "outputs": [
    {
     "name": "stdout",
     "output_type": "stream",
     "text": [
      "Quanto voce ganha por hora? 100\n",
      "Quantas horas você trabalhou no mes? 2\n",
      "O salário bruto é de R$ 200.0\n",
      "Descontos de  INSS R$ 16.0\n",
      "Descontos de  sindicato R$ 10.0\n",
      "Seu salario liquido é de R$ 152.0\n"
     ]
    }
   ],
   "source": [
    "sh = float(input('Quanto voce ganha por hora? '))\n",
    "qh = int(input('Quantas horas você trabalhou no mes? '))\n",
    "\n",
    "sal_bruto = sh * qh\n",
    "\n",
    "ir = 11/100*sal_bruto\n",
    "inss = 8/100*sal_bruto\n",
    "sind = 5/100*sal_bruto\n",
    "\n",
    "\n",
    "descontos = ir + inss + sind\n",
    "sal_liq = sal_bruto-descontos\n",
    "\n",
    "print ('O salário bruto é de R$' , sal_bruto )\n",
    "print ('Descontos de  INSS R$' , inss )\n",
    "print ('Descontos de  sindicato R$' , sind )\n",
    "print ('Seu salario liquido é de R$' , sal_liq )"
   ]
  },
  {
   "cell_type": "markdown",
   "metadata": {},
   "source": [
    "9 Faça um programa que leia 2 strings e informe o conteúdo delas seguido do seu\n",
    "comprimento. Informe também se as duas strings possuem o mesmo comprimento e\n",
    "são iguais ou diferentes no conteúdo.\n",
    "Exemplo:\n",
    "String 1: Brasil Hexa 2018\n",
    "String 2: Brasil! Hexa 2018!\n",
    "Tamanho de \"Brasil Hexa 2018\": 16 caracteres\n",
    "Tamanho de \"Brasil! Hexa 2018!\": 18 caracteres\n",
    "As duas strings são de tamanhos diferentes.\n",
    "As duas strings possuem conteúdo diferente."
   ]
  },
  {
   "cell_type": "code",
   "execution_count": 27,
   "metadata": {},
   "outputs": [
    {
     "name": "stdout",
     "output_type": "stream",
     "text": [
      "Digite algo: a\n",
      "Tá pouco ainda digite mais: aa\n",
      "Tamanho de a: 1 caracteres\n",
      " Tamanho de aa: 2 caracteres\n",
      "As duas frases possuem tamanhos diferentes\n"
     ]
    }
   ],
   "source": [
    "s1 = input(\"Digite algo: \")\n",
    "s2 = input(\"Tá pouco ainda digite mais: \")\n",
    "\n",
    "cont1 = len(s1)\n",
    "cont2 = len(s2)\n",
    "\n",
    "print(\"Tamanho de {}: {} caracteres\\n Tamanho de {}: {} caracteres\".format(s1,len(s1),s2,len(s2)))\n",
    "\n",
    "if(cont1 == cont2):\n",
    "    print(\"As duas frases possuem tamanhos iguais\")    \n",
    "else:\n",
    "    print(\"As duas frases possuem tamanhos diferentes\")"
   ]
  },
  {
   "cell_type": "markdown",
   "metadata": {},
   "source": [
    "10 Faça um programa que permita ao usuário digitar o seu nome e em seguida\n",
    "mostre o nome do usuário de trás para frente utilizando somente letras maiúsculas.\n",
    "Dica: lembre−se que ao informar o nome o usuário pode digitar letras maiúsculas ou\n",
    "minúsculas. \n",
    "Observação: não use loops."
   ]
  },
  {
   "cell_type": "code",
   "execution_count": null,
   "metadata": {},
   "outputs": [],
   "source": []
  }
 ],
 "metadata": {
  "kernelspec": {
   "display_name": "Python 3",
   "language": "python",
   "name": "python3"
  },
  "language_info": {
   "codemirror_mode": {
    "name": "ipython",
    "version": 3
   },
   "file_extension": ".py",
   "mimetype": "text/x-python",
   "name": "python",
   "nbconvert_exporter": "python",
   "pygments_lexer": "ipython3",
   "version": "3.6.4"
  }
 },
 "nbformat": 4,
 "nbformat_minor": 2
}
