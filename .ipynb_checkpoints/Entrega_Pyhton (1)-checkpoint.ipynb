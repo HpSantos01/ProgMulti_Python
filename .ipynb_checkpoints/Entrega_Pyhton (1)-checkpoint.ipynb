{
 "cells": [
  {
   "cell_type": "markdown",
   "metadata": {},
   "source": [
    "Henrique Pucci Dos Santos\n",
    "RA: 8162257381"
   ]
  },
  {
   "cell_type": "markdown",
   "metadata": {},
   "source": [
    "1 Faça um Programa que peça o raio de um círculo, calcule e mostre sua área."
   ]
  },
  {
   "cell_type": "code",
   "execution_count": 1,
   "metadata": {},
   "outputs": [
    {
     "name": "stdout",
     "output_type": "stream",
     "text": [
      "Digite a área do Circulo em metros:5\n",
      "O resultado é 78.5\n"
     ]
    }
   ],
   "source": [
    "pi= 3.14\n",
    "r = float (input ('Digite a área do Circulo em metros:'))\n",
    "a = pi * (r*r)\n",
    "print ('O resultado é' ,a )\n"
   ]
  },
  {
   "cell_type": "markdown",
   "metadata": {},
   "source": [
    "2 Faça um Programa que calcule a área de um quadrado, em seguida mostre o dobro\n",
    "desta área para o usuário."
   ]
  },
  {
   "cell_type": "code",
   "execution_count": 2,
   "metadata": {},
   "outputs": [
    {
     "name": "stdout",
     "output_type": "stream",
     "text": [
      "Digite lado do quadrado:4\n",
      "Digite base do quadrado:6\n",
      "A area do quadrado é 24.0\n",
      "e o dobro dela é: 48.0\n"
     ]
    }
   ],
   "source": [
    "lado = float(input('Digite lado do quadrado:'))\n",
    "base = float(input('Digite base do quadrado:'))\n",
    "area = lado * base\n",
    "dobro = area*2\n",
    "print ('A area do quadrado é' ,area ) \n",
    "print('e o dobro dela é:' , dobro)\n",
    "\n"
   ]
  },
  {
   "cell_type": "markdown",
   "metadata": {},
   "source": [
    "3 Faça um Programa que pergunte quanto você ganha por hora e o número de horas\n",
    "trabalhadas no mês. Calcule e mostre o total do seu salário no referido mês."
   ]
  },
  {
   "cell_type": "code",
   "execution_count": 3,
   "metadata": {},
   "outputs": [
    {
     "name": "stdout",
     "output_type": "stream",
     "text": [
      "Quanto voce ganha por hora?13\n",
      "Quantas horas você trabalhou no mes?220\n",
      "Seu salario total é R$: 2860.0\n"
     ]
    }
   ],
   "source": [
    "salario_hora = float(input('Quanto voce ganha por hora?'))\n",
    "qtd_hora = float(input('Quantas horas você trabalhou no mes?'))\n",
    "total_salario = salario_hora * qtd_hora\n",
    "print ('Seu salario total é R$:' ,total_salario)"
   ]
  },
  {
   "cell_type": "markdown",
   "metadata": {},
   "source": [
    "4 Faça um Programa que peça a temperatura em graus Farenheit, transforme e\n",
    "mostre a temperatura em graus Celsius. C = (5 * (F-32) / 9)."
   ]
  },
  {
   "cell_type": "code",
   "execution_count": 4,
   "metadata": {},
   "outputs": [
    {
     "name": "stdout",
     "output_type": "stream",
     "text": [
      "Digite a temperatura em Farenheit:112\n",
      "A temperatura em °C é 44.4\n"
     ]
    }
   ],
   "source": [
    "fht = float(input('Digite a temperatura em Farenheit:'))\n",
    "c = (5 * ( fht - 32 ) / 9)\n",
    "\n",
    "print ('A temperatura em °C é %.1f' %c)"
   ]
  },
  {
   "cell_type": "markdown",
   "metadata": {},
   "source": [
    "5 Faça um Programa que peça a temperatura em graus Celsius, transforme e mostre\n",
    "em graus Farenheit."
   ]
  },
  {
   "cell_type": "code",
   "execution_count": 5,
   "metadata": {},
   "outputs": [
    {
     "name": "stdout",
     "output_type": "stream",
     "text": [
      "Digite a temperatura em graus Celsius:44.4\n",
      "A temperatura em Farenheit é 111.92\n"
     ]
    }
   ],
   "source": [
    "celsius = float(input('Digite a temperatura em graus Celsius:'))\n",
    "f = (celsius *1.8 + 32)\n",
    "\n",
    "print ('A temperatura em Farenheit é' ,f)\n"
   ]
  },
  {
   "cell_type": "markdown",
   "metadata": {},
   "source": [
    "6 Faça um Programa que peça 2 números inteiros e um número real. Calcule e\n",
    "mostre:\n",
    "- o produto do dobro do primeiro com metade do segundo .\n",
    "- a soma do triplo do primeiro com o terceiro.\n",
    "- o terceiro elevado ao cubo."
   ]
  },
  {
   "cell_type": "code",
   "execution_count": 6,
   "metadata": {},
   "outputs": [
    {
     "name": "stdout",
     "output_type": "stream",
     "text": [
      "Digite o primeiro numero inteiro: 10\n",
      "Digite o segundo numero inteiro: 9\n",
      "Digite o terceiro sendo um numero real: 8\n",
      "o total do produto do dobro do primeiro com metade do segundo é 24.5\n",
      "o total da soma do triplo do primeiro com o terceiro é 38.0\n",
      "o total do terceiro elevado ao cubo é 24.0\n"
     ]
    }
   ],
   "source": [
    "n1 = int(input('Digite o primeiro numero inteiro: '))\n",
    "n2 = int(input('Digite o segundo numero inteiro: '))\n",
    "n3 = float(input('Digite o terceiro sendo um numero real: '))\n",
    "\n",
    "a1 = (n1*2+n2/2)\n",
    "a2 = (n1*3+n3)\n",
    "a3 = (n3*3)\n",
    "\n",
    "print ('o total do produto do dobro do primeiro com metade do segundo é' ,a1)\n",
    "print ('o total da soma do triplo do primeiro com o terceiro é' ,a2)\n",
    "print ('o total do terceiro elevado ao cubo é' ,a3)"
   ]
  },
  {
   "cell_type": "markdown",
   "metadata": {},
   "source": [
    "7 João Papo-de-Pescador, homem de bem, comprou um microcomputador para\n",
    "controlar o rendimento diário de seu trabalho. Toda vez que ele traz um peso de\n",
    "peixes maior que o estabelecido pelo regulamento de pesca do estado de São Paulo\n",
    "(50 quilos) deve pagar uma multa de R$ 4,00 por quilo excedente. João precisa que\n",
    "você faça um programa que leia a variável peso (peso de peixes) e verifique se há\n",
    "excesso. Se houver, gravar na variável excesso e na variável multa o valor da multa\n",
    "que João deverá pagar. Caso contrário mostrar tais variáveis com o conteúdo ZERO."
   ]
  },
  {
   "cell_type": "code",
   "execution_count": 7,
   "metadata": {},
   "outputs": [
    {
     "name": "stdout",
     "output_type": "stream",
     "text": [
      "Digite o peso dos peixes pescados: 57\n",
      "Opa você excedeu 7.0 Kg então o valor da multa é R$ 28.0\n"
     ]
    }
   ],
   "source": [
    "pesop = float(input('Digite o peso dos peixes pescados: '))\n",
    "\n",
    "if pesop > 50:\n",
    "    excesso = pesop - 50\n",
    "    multa = excesso * 4\n",
    "    print(\"Opa você excedeu {} Kg então o valor da multa é R$ {}\" .format(excesso, multa))\n",
    "else: \n",
    "    print('Parabéns, sem multa de excesso por hoje!')"
   ]
  },
  {
   "cell_type": "markdown",
   "metadata": {},
   "source": [
    "8 Faça um Programa que pergunte quanto você ganha por hora e o número de horas\n",
    "trabalhadas no mês. Calcule e mostre o total do seu salário no referido mês,\n",
    "sabendo-se que são descontados 11% para o Imposto de Renda, 8% para o INSS e 5%\n",
    "para o sindicato, faça um programa que nos dê:\n",
    "- salário bruto.\n",
    "- quanto pagou ao INSS.\n",
    "- quanto pagou ao sindicato.\n",
    "- o salário líquido.\n",
    "- calcule os descontos e o salário líquido, conforme a tabela abaixo:\n",
    "+ Salário Bruto : R$\n",
    "- IR (11%) : R$\n",
    "- INSS (8%) : R$\n",
    "- Sindicato ( 5%) : R$\n",
    "= Salário Liquido : R$\n",
    "Obs.: Salário Bruto - Descontos = Salário Líquido."
   ]
  },
  {
   "cell_type": "code",
   "execution_count": 9,
   "metadata": {},
   "outputs": [
    {
     "name": "stdout",
     "output_type": "stream",
     "text": [
      "Quanto voce ganha por hora? 13\n",
      "Quantas horas você trabalhou no mes? 220\n",
      "O salário bruto é de R$ 2860.0\n",
      "Descontos de  INSS R$ 228.8\n",
      "Descontos de  sindicato R$ 143.0\n",
      "Seu salario liquido é de R$ 2173.6\n"
     ]
    }
   ],
   "source": [
    "sh = float(input('Quanto voce ganha por hora? '))\n",
    "qh = int(input('Quantas horas você trabalhou no mes? '))\n",
    "\n",
    "sal_bruto = sh * qh\n",
    "\n",
    "ir = 11/100*sal_bruto\n",
    "inss = 8/100*sal_bruto\n",
    "sind = 5/100*sal_bruto\n",
    "\n",
    "\n",
    "descontos = ir + inss + sind\n",
    "sal_liq = sal_bruto-descontos\n",
    "\n",
    "print ('O salário bruto é de R$' , sal_bruto )\n",
    "print ('Descontos de  INSS R$' , inss )\n",
    "print ('Descontos de  sindicato R$' , sind )\n",
    "print ('Seu salario liquido é de R$' , sal_liq )"
   ]
  },
  {
   "cell_type": "markdown",
   "metadata": {},
   "source": [
    "9 Faça um programa que leia 2 strings e informe o conteúdo delas seguido do seu\n",
    "comprimento. Informe também se as duas strings possuem o mesmo comprimento e\n",
    "são iguais ou diferentes no conteúdo.\n",
    "Exemplo:\n",
    "String 1: Brasil Hexa 2018\n",
    "String 2: Brasil! Hexa 2018!\n",
    "Tamanho de \"Brasil Hexa 2018\": 16 caracteres\n",
    "Tamanho de \"Brasil! Hexa 2018!\": 18 caracteres\n",
    "As duas strings são de tamanhos diferentes.\n",
    "As duas strings possuem conteúdo diferente."
   ]
  },
  {
   "cell_type": "code",
   "execution_count": 10,
   "metadata": {},
   "outputs": [
    {
     "name": "stdout",
     "output_type": "stream",
     "text": [
      "Digite algo: Isso parece divertido\n",
      "Tá pouco ainda digite mais: Isso parece divertido\n",
      "Tamanho de Isso parece divertido: 21 caracteres\n",
      " Tamanho de Isso parece divertido: 21 caracteres\n",
      "As duas frases possuem tamanhos iguais\n"
     ]
    }
   ],
   "source": [
    "s1 = input(\"Digite algo: \")\n",
    "s2 = input(\"Tá pouco ainda digite mais: \")\n",
    "\n",
    "cont1 = len(s1)\n",
    "cont2 = len(s2)\n",
    "\n",
    "print(\"Tamanho de {}: {} caracteres\\n Tamanho de {}: {} caracteres\".format(s1,len(s1),s2,len(s2)))\n",
    "\n",
    "if(cont1 == cont2):\n",
    "    print(\"As duas frases possuem tamanhos iguais\")    \n",
    "else:\n",
    "    print(\"As duas frases possuem tamanhos diferentes\")"
   ]
  },
  {
   "cell_type": "markdown",
   "metadata": {},
   "source": [
    "10 Faça um programa que permita ao usuário digitar o seu nome e em seguida\n",
    "mostre o nome do usuário de trás para frente utilizando somente letras maiúsculas.\n",
    "Dica: lembre−se que ao informar o nome o usuário pode digitar letras maiúsculas ou\n",
    "minúsculas. \n",
    "Observação: não use loops."
   ]
  },
  {
   "cell_type": "code",
   "execution_count": 11,
   "metadata": {},
   "outputs": [
    {
     "name": "stdout",
     "output_type": "stream",
     "text": [
      "Digite seu nome: Pucci\n",
      "Seu nome invertido fica ICCUP\n"
     ]
    }
   ],
   "source": [
    "nome = input('Digite seu nome: ')\n",
    "\n",
    "tf = nome[::-1]\n",
    "\n",
    "print ('Seu nome invertido fica {}' .format(tf.upper()))"
   ]
  },
  {
   "cell_type": "markdown",
   "metadata": {},
   "source": [
    "11 Faça um programa que solicite a data de nascimento (dd/mm/aaaa) do usuário e\n",
    "imprima a data com o nome do mês por extenso.\n",
    "Data de Nascimento: 29/10/1973\n",
    "Você nasceu em 29 de Outubro de 1973.\n",
    "Obs.: Não use desvio condicional nem loops."
   ]
  },
  {
   "cell_type": "code",
   "execution_count": 12,
   "metadata": {},
   "outputs": [
    {
     "name": "stdout",
     "output_type": "stream",
     "text": [
      "Digite sua data de nascimento em dd/mm/aaaa :30/01/1997\n",
      "Você nasceu em 30 de Janeiro de 1997.\n"
     ]
    }
   ],
   "source": [
    "dt = input('Digite sua data de nascimento em dd/mm/aaaa :')\n",
    "\n",
    "data = dt.split('/')\n",
    "data = {'datas':data}\n",
    "\n",
    "dia = data['datas'][0]\n",
    "mes = data['datas'][1]\n",
    "ano = data['datas'][2]\n",
    "\n",
    "m_all = { \n",
    "    '01' : 'Janeiro' ,\n",
    "    '02' : 'Fevereiro' ,\n",
    "    '03' : 'Março' ,\n",
    "    '04' : 'Abril' ,\n",
    "    '05' : 'Maio' ,\n",
    "    '06' : 'Junho' ,\n",
    "    '07' : 'Julho' ,\n",
    "    '08' : 'Agosto' ,\n",
    "    '09' : 'Setembro' ,\n",
    "    '10' : 'Outubro' ,\n",
    "    '11' : 'Novembro' ,\n",
    "    '12' : 'Dezembro' ,\n",
    "        }\n",
    "\n",
    "m_ext = m_all[mes]\n",
    "\n",
    "print (f'Você nasceu em {dia} de {m_ext} de {ano}.')"
   ]
  },
  {
   "cell_type": "markdown",
   "metadata": {},
   "source": [
    "12 Leet é uma forma de se escrever o alfabeto latino usando outros símbolos em\n",
    "lugar das letras, como números por exemplo. A própria palavra leet admite muitas\n",
    "variações, como l33t ou 1337. O uso do leet reflete uma subcultura relacionada ao\n",
    "mundo dos jogos de computador e internet, sendo muito usada para confundir os\n",
    "iniciantes e afirmar-se como parte de um grupo. Pesquise sobre as principais formas\n",
    "de traduzir as letras. Depois, faça um programa que peça uma texto e transforme-o\n",
    "para a grafia leet speak.\n",
    "Desafio: não use loops nem desvios condicionais."
   ]
  },
  {
   "cell_type": "code",
   "execution_count": 15,
   "metadata": {},
   "outputs": [
    {
     "name": "stdout",
     "output_type": "stream",
     "text": [
      "Digite seu nome para conversão leet:henrique\n",
      "Seu nome leet fica  |-|3nr1qu3\n"
     ]
    }
   ],
   "source": [
    "nick = input('Digite seu nome para conversão leet:')\n",
    "\n",
    "nick = nick.replace ('a','4')\n",
    "nick = nick.replace ('b','8')\n",
    "nick = nick.replace ('e','3')\n",
    "nick = nick.replace ('g','6')\n",
    "nick = nick.replace ('h','|-|')\n",
    "nick = nick.replace ('i','1')\n",
    "nick = nick.replace ('e','|_|')\n",
    "nick = nick.replace ('z','2')\n",
    "nick = nick.replace ('s','5')\n",
    "\n",
    "print ('Seu nome leet fica ' ,nick)"
   ]
  },
  {
   "cell_type": "markdown",
   "metadata": {},
   "source": [
    "13 Crie um programa que recebe uma lista de numeros e retorne :\n",
    "\n",
    "O maior elemento\n",
    "A soma dos elementos\n",
    "O numero de ocorrencias do primeiro elemento da lista\n",
    "A media dos elementos O valor mais proximo da media dos elementos\n",
    "A soma dos elementos com valor negativo A quantidade de vizinhos iguais"
   ]
  },
  {
   "cell_type": "code",
   "execution_count": 16,
   "metadata": {},
   "outputs": [
    {
     "name": "stdout",
     "output_type": "stream",
     "text": [
      "A soma dos elementos é: 32 \n",
      "O maior elemento é : 54 \n",
      "A soma dos elementos é : 2 \n",
      "o numero de ocorrencias do primeiro elemento da lista é : 4.5 \n",
      "a soma dos elementos com valor negativo é : -54\n"
     ]
    }
   ],
   "source": [
    "lista_numeros = [1,2,3,1,-2,3,11,2,32,2,-1,0]\n",
    "maior = max(lista_numeros)\n",
    "soma = sum(lista_numeros)\n",
    "ocorrencias_item_1 = lista_numeros.count(1)\n",
    "media = soma/len(lista_numeros)\n",
    "negativos = -+soma\n",
    "\n",
    "print(\"A soma dos elementos é: {} \\nO maior elemento é : {} \\nA soma dos elementos é : {} \\no numero de ocorrencias do primeiro elemento da lista é : {} \\na soma dos elementos com valor negativo é : {}\"\n",
    "      .format(maior, soma,ocorrencias_item_1, media,negativos))"
   ]
  },
  {
   "cell_type": "markdown",
   "metadata": {},
   "source": [
    "14 Faca um programa que receba duas listas e retorne True se sao iguais ou False caso contrario. Duas listas sao iguais se possuem os mesmos valores e na mesma ordem."
   ]
  },
  {
   "cell_type": "code",
   "execution_count": 17,
   "metadata": {},
   "outputs": [
    {
     "data": {
      "text/plain": [
       "True"
      ]
     },
     "execution_count": 17,
     "metadata": {},
     "output_type": "execute_result"
    }
   ],
   "source": [
    "lista_1 = [1,2,3]\n",
    "lista_2 = [1,2,3]\n",
    "lista_1[:len(lista_1)] == lista_2[:len(lista_2)]"
   ]
  },
  {
   "cell_type": "markdown",
   "metadata": {},
   "source": [
    "15 Faca um programa que receba duas listas e retorne True se tem os mesmos elementos ou False, caso contrario Duas listas possuem os mesmos elementos quando sao compostas pelos mesmos valores, mas nao obrigatoriamente na mesma ordem."
   ]
  },
  {
   "cell_type": "code",
   "execution_count": 18,
   "metadata": {},
   "outputs": [
    {
     "data": {
      "text/plain": [
       "True"
      ]
     },
     "execution_count": 18,
     "metadata": {},
     "output_type": "execute_result"
    }
   ],
   "source": [
    "lista_1 = [1,2,3]\n",
    "lista_2 = [3,2,1]\n",
    "set(lista_1) == set(lista_2)"
   ]
  },
  {
   "cell_type": "markdown",
   "metadata": {},
   "source": [
    "16 Faca um programa que percorre uma lista com o seguinte formato: [['Brasil', 'Italia', [10, 9]], ['Brasil', 'Espanha', [5, 7]], ['Italia', 'Espanha', [7,8]]]. Essa lista indica o numero de faltas que cada time fez em cada jogo. Na lista acima, no jogo entre Brasil e Italia, o Brasil fez 10 faltas e a Italia fez 9. O programa deve imprimir na tela:\n",
    "\n",
    "o total de faltas do campeonato\n",
    "o time que fez mais faltas\n",
    "o time que fez menos faltas"
   ]
  },
  {
   "cell_type": "code",
   "execution_count": 19,
   "metadata": {},
   "outputs": [
    {
     "name": "stdout",
     "output_type": "stream",
     "text": [
      "O total de faltas no campeonato foi de : 46 faltas \n",
      "O time que cometeu maior numero de faltas foi : Italia, com 16 faltas \n",
      "O time que menos cometeu faltas foi : Brasil, com 15\n"
     ]
    }
   ],
   "source": [
    "campeonato_lista = [['Brasil', 'Italia', [10, 9]], ['Brasil', 'Espanha', [5, 7]], ['Italia', 'Espanha', [7,8]]]\n",
    "\n",
    "lista_1 = campeonato_lista[0]\n",
    "soma_faltas_1 = lista_1[2]\n",
    "faltas_brasil_lista_1 = soma_faltas_1[0]\n",
    "faltas_italia_lista_1 = soma_faltas_1[1]\n",
    "\n",
    "lista_2 = campeonato_lista[1]\n",
    "soma_faltas_2 = lista_2[2]\n",
    "faltas_brasil_lista_2 = soma_faltas_2[0]\n",
    "faltas_espanha_lista_2 = soma_faltas_2[1]\n",
    "\n",
    "lista_3 = campeonato_lista[2]\n",
    "soma_faltas_3 = lista_3[2]\n",
    "faltas_italia_lista_3 = soma_faltas_3[0]\n",
    "faltas_espanha_lista_3 = soma_faltas_3[1]\n",
    "faltas_brasil = faltas_brasil_lista_1+faltas_brasil_lista_2\n",
    "faltas_espanha = faltas_espanha_lista_2+faltas_espanha_lista_3\n",
    "faltas_italia = faltas_italia_lista_1+faltas_italia_lista_3\n",
    "\n",
    "todos = {'Brasil':faltas_brasil,'Espanha':faltas_espanha,'Italia':faltas_italia}\n",
    "total = sum(todos.values())\n",
    "\n",
    "maior_faltas_qtde = max(todos.keys())\n",
    "maior_faltas_time = max(todos.values())\n",
    "menor_faltas_qtde = min(todos.keys())\n",
    "menor_faltas_time = min(todos.values())\n",
    "\n",
    "print(f\"O total de faltas no campeonato foi de : {total} faltas \\nO time que cometeu maior numero de faltas foi : {maior_faltas_qtde}, com {maior_faltas_time} faltas \\nO time que menos cometeu faltas foi : {menor_faltas_qtde}, com {menor_faltas_time}\")"
   ]
  },
  {
   "cell_type": "markdown",
   "metadata": {},
   "source": [
    "17 Escreva um programa que conta a quantidade de vogais em uma string e armazena tal quantidade em um dicionário, onde a chave é a vogal considerada."
   ]
  },
  {
   "cell_type": "code",
   "execution_count": 20,
   "metadata": {},
   "outputs": [
    {
     "name": "stdout",
     "output_type": "stream",
     "text": [
      "Digite uma palavra : Semestre\n",
      "{'a': 0, 'e': 3, 'i': 0, 'o': 0, 'u': 0}\n"
     ]
    }
   ],
   "source": [
    "text_vogais = input(\"Digite uma palavra : \")\n",
    "\n",
    "a = text_vogais.count(\"a\")\n",
    "e = text_vogais.count(\"e\")\n",
    "i = text_vogais.count(\"i\")\n",
    "o = text_vogais.count(\"o\")\n",
    "u = text_vogais.count(\"u\")\n",
    "\n",
    "dic = {'a':a,'e':e,'i':i,'o':o,'u':u}\n",
    "\n",
    "print(dic)"
   ]
  },
  {
   "cell_type": "markdown",
   "metadata": {},
   "source": [
    "18 Escreva um programa que lê̂ duas notas de vários alunos e armazena tais notas em um dicionário, onde a chave é o nome do aluno. A entrada de dados deve terminar quando for lida uma string vazia como nome. Escreva uma função que retorna a média do aluno, dado seu nome."
   ]
  },
  {
   "cell_type": "code",
   "execution_count": 21,
   "metadata": {},
   "outputs": [
    {
     "name": "stdout",
     "output_type": "stream",
     "text": [
      "O aluno(a) Mario ficou com média 7.0 \n",
      "O aluno(a) Luigi ficou com média : 9.75\n"
     ]
    }
   ],
   "source": [
    "notas = [['Mario',[9.0,5.0]], ['Luigi',[10.0,9.5]]]\n",
    "\n",
    "lista1 = notas[0]\n",
    "lista2 = notas[1]\n",
    "\n",
    "nome1 = lista1[0]\n",
    "nome2 = lista2[0]\n",
    "\n",
    "nota1 = lista1[1]\n",
    "nota2 = lista2[1]\n",
    "\n",
    "nota1 = sum(nota1)/2\n",
    "nota2 = sum(nota2)/2\n",
    "\n",
    "print(f\"O aluno(a) {nome1} ficou com média {nota1} \\nO aluno(a) {nome2} ficou com média : {nota2}\")"
   ]
  },
  {
   "cell_type": "markdown",
   "metadata": {},
   "source": [
    "19 Uma pista de Kart permite 10 voltas para cada um de 6 corredores. Escreva um programa que leia todos os tempos em segundos e os guarde em um dicionário, onde a chave é o nome do corredor. Ao final diga de quem foi a melhor volta da prova e em que volta; e ainda a classificação final em ordem (1o o campeão). O campeão é o que tem a menor média de tempos."
   ]
  },
  {
   "cell_type": "code",
   "execution_count": 22,
   "metadata": {},
   "outputs": [
    {
     "name": "stdout",
     "output_type": "stream",
     "text": [
      "Digite o nome do piloto: Mario\n",
      "Digite o tempo do piloto: 99\n",
      "Campeão: ['Mario', 99.0]\n"
     ]
    }
   ],
   "source": [
    "nome = input(\"Digite o nome do piloto: \")\n",
    "kart = [nome]\n",
    "tempo = float(input(\"Digite o tempo do piloto: \"))\n",
    "kart.append(tempo)\n",
    "print(\"Campeão: {}\".format(kart))"
   ]
  },
  {
   "cell_type": "markdown",
   "metadata": {},
   "source": [
    "20 Escreva um programa para armazenar uma agenda de telefones em um dicionário. Cada pessoa pode ter um ou mais telefones e a chave do dicionário é o nome da pessoa. Seu programa deve ter as seguintes funções:\n",
    "\n",
    "incluirNovoNome – essa função acrescenta um novo nome na agenda, com um ou mais telefones. Ela deve receber como argumentos o nome e os telefones.\n",
    "incluirTelefone – essa função acrescenta um telefone em um nome existente na agenda. Caso o nome não exista na agenda, você̂ deve perguntar se a pessoa deseja inclui-lo. Caso a resposta seja afirmativa, use a função anterior para incluir o novo nome.\n",
    "excluirTelefone – essa função exclui um telefone de uma pessoa que já está na agenda. Se a pessoa tiver apenas um telefone, ela deve ser excluída da agenda.\n",
    "excluirNome – essa função exclui uma pessoa da agenda.\n",
    "consultarTelefone – essa função retorna os telefones de uma pessoa na agenda."
   ]
  },
  {
   "cell_type": "code",
   "execution_count": 23,
   "metadata": {},
   "outputs": [
    {
     "name": "stdout",
     "output_type": "stream",
     "text": [
      "Remova um contato Henrique\n",
      "{'Jessica': 8162257402, 'Anderson': 8162257025}\n"
     ]
    }
   ],
   "source": [
    "lista = {'Henrique':8162257381,'Jessica':8162257402,'Anderson': 8162257025}\n",
    "nome = input(\"Remova um contato \")\n",
    "lista.pop(nome)\n",
    "\n",
    "print(lista)"
   ]
  },
  {
   "cell_type": "markdown",
   "metadata": {},
   "source": [
    "21 Faça um programa que leia um arquivo texto contendo uma lista de endereços IP e gere um outro arquivo, contendo um relatório dos endereços IP válidos e inválidos. O arquivo de entrada possui o seguinte formato: 200.135.80.9 192.168.1.1 8.35.67.74 257.32.4.5 85.345.1.2 1.2.3.4 9.8.234.5 192.168.0.256 O arquivo de saída possui o seguinte formato: [Endereços válidos:] 200.135.80.9 192.168.1.1 8.35.67.74 1.2.3.4 [Endereços inválidos:] 257.32.4.5 85.345.1.2 9.8.234.5 192.168.0.256"
   ]
  },
  {
   "cell_type": "code",
   "execution_count": 24,
   "metadata": {},
   "outputs": [
    {
     "name": "stdout",
     "output_type": "stream",
     "text": [
      "Overwriting file.txt\n"
     ]
    }
   ],
   "source": [
    "%%writefile file.txt\n",
    "my_file.write('Válidos 200.135.80.9 192.168.1.1 8.35.67.74 1.2.3.4')\n",
    "my_file.write('Inválidos 257.32.4.5 85.345.1.2 9.8.234.5 192.168.0.256')\n",
    "print(my_file.read())"
   ]
  },
  {
   "cell_type": "markdown",
   "metadata": {},
   "source": [
    "22 A ACME Inc., uma empresa de 500 funcionários, está tendo problemas de espaço em disco no seu servidor de arquivos. Para tentar resolver este problema, o Administrador de Rede precisa saber qual o espaço ocupado pelos usuários, e identificar os usuários com maior espaço ocupado. Através de um programa, baixado da Internet, ele conseguiu gerar o seguinte arquivo, chamado \"usuarios.txt\": alexandre 456123789 anderson 1245698456 antonio 123456456 carlos 91257581 cesar 987458 rosemary 789456125 Neste arquivo, o nome do usuário possui 15 caracteres. A partir deste arquivo, você deve criar um programa que gere um relatório, chamado \"relatório.txt\", no seguinte formato:\n",
    "\n",
    "ACME Inc. Uso do espaço em disco pelos usuários\n",
    "Nr. Usuário Espaço utilizado % do uso 1 alexandre 434,99 MB 16,85% 2 anderson 1187,99 MB 46,02% 3 antonio 117,73 MB 4,56% 4 carlos 87,03 MB 3,37% 5 cesar 0,94 MB 0,04% 6 rosemary 752,88 MB 29,16% Espaço total ocupado: 2581,57 MB Espaço médio ocupado: 430,26 MB O arquivo de entrada deve ser lido uma única vez, e os dados armazenados em memória, caso sejam necessários, de forma a agilizar a execução do programa. A conversão da espaço ocupado em disco, de bytes para megabytes deverá ser feita através de uma função separada, que será chamada pelo programa principal. O cálculo do percentual de uso também deverá ser feito através de uma função, que será chamada pelo programa principal."
   ]
  },
  {
   "cell_type": "code",
   "execution_count": 25,
   "metadata": {},
   "outputs": [
    {
     "name": "stdout",
     "output_type": "stream",
     "text": [
      "Overwriting relatório.txt\n"
     ]
    }
   ],
   "source": [
    "%%writefile relatório.txt\n",
    "ACME Inc. Uso do espaço em disco pelos usuários\n",
    "--------------------------------------------------------------\n",
    "Nr. Usuário Espaço utilizado % do uso\n",
    "1 alexandre 434,99 MB 16,85%\n",
    "2 anderson 1187,99 MB 46,02%\n",
    "3 antonio 117,73 MB 4,56%\n",
    "4 carlos 87,03 MB 3,37%\n",
    "5 cesar 0,94 MB 0,04%\n",
    "6 rosemary 752,88 MB 29,16%\n",
    "Espaço total ocupado: 2581,57 MB\n",
    "Espaço médio ocupado: 430,26 MB\n",
    "print(file.read())"
   ]
  }
 ],
 "metadata": {
  "kernelspec": {
   "display_name": "Python 3",
   "language": "python",
   "name": "python3"
  },
  "language_info": {
   "codemirror_mode": {
    "name": "ipython",
    "version": 3
   },
   "file_extension": ".py",
   "mimetype": "text/x-python",
   "name": "python",
   "nbconvert_exporter": "python",
   "pygments_lexer": "ipython3",
   "version": "3.6.4"
  }
 },
 "nbformat": 4,
 "nbformat_minor": 2
}
